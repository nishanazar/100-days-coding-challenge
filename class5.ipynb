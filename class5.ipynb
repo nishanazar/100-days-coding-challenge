{
  "cells": [
    {
      "cell_type": "markdown",
      "metadata": {
        "id": "view-in-github",
        "colab_type": "text"
      },
      "source": [
        "<a href=\"https://colab.research.google.com/github/nishanazar/100-days-coding-challenge/blob/main/class5.ipynb\" target=\"_parent\"><img src=\"https://colab.research.google.com/assets/colab-badge.svg\" alt=\"Open In Colab\"/></a>"
      ]
    },
    {
      "cell_type": "markdown",
      "source": [
        "*FUNCTION IN PYTHON**\n",
        "\n"
      ],
      "metadata": {
        "id": "pjBsGPhmPsPb"
      }
    },
    {
      "cell_type": "code",
      "source": [
        "def my_function():\n",
        "  print(\"Hello from a function\")\n",
        "my_function()\n"
      ],
      "metadata": {
        "colab": {
          "base_uri": "https://localhost:8080/"
        },
        "id": "q29DqNQuP70N",
        "outputId": "4690fef8-769a-40a7-da4a-5950f489e762"
      },
      "execution_count": 1,
      "outputs": [
        {
          "output_type": "stream",
          "name": "stdout",
          "text": [
            "Hello from a function\n"
          ]
        }
      ]
    },
    {
      "cell_type": "markdown",
      "source": [
        " function with Parameters and Arguments"
      ],
      "metadata": {
        "id": "3r3BdKNERCsI"
      }
    },
    {
      "cell_type": "code",
      "source": [
        "def my_function(f_name, l_name):\n",
        " return f\"hello {f_name} {l_name}\"\n",
        "print(my_function(\"Nisha\", \"Nazar\"))"
      ],
      "metadata": {
        "colab": {
          "base_uri": "https://localhost:8080/"
        },
        "id": "A899ZYMQRLkH",
        "outputId": "92abf407-75eb-4986-a021-b6feba4c4e4d"
      },
      "execution_count": 3,
      "outputs": [
        {
          "output_type": "stream",
          "name": "stdout",
          "text": [
            "hello Nisha Nazar\n"
          ]
        }
      ]
    },
    {
      "cell_type": "markdown",
      "source": [
        "Arbitrary Arguments, *args.\n",
        "*args in Python is a special parameter that allows a function to receive multiple positional arguments as a tuple"
      ],
      "metadata": {
        "id": "98d1d3SemH22"
      }
    },
    {
      "cell_type": "code",
      "source": [
        "def greet(name, *messages):\n",
        "    print(f\"Hello {name}! \")\n",
        "    print(\" \".join(messages))\n",
        "greet(\"John\", \"Good Morning\", \"How are you?\", \"Have a nice day!\")"
      ],
      "metadata": {
        "colab": {
          "base_uri": "https://localhost:8080/"
        },
        "id": "YgLyjtJrUQn4",
        "outputId": "1dfe593b-888e-4b72-b644-f4383a2c9536"
      },
      "execution_count": 20,
      "outputs": [
        {
          "output_type": "stream",
          "name": "stdout",
          "text": [
            "Hello John! \n",
            "Good Morning How are you? Have a nice day!\n"
          ]
        }
      ]
    },
    {
      "cell_type": "markdown",
      "source": [
        "let's create function with default parameters"
      ],
      "metadata": {
        "id": "BUe4phJaZAlt"
      }
    },
    {
      "cell_type": "code",
      "source": [
        "def greeting(name= \"Guest\"):\n",
        "  print(f\"Hello, {name}\")\n",
        "greeting()\n",
        "greeting(\"Hashir\")"
      ],
      "metadata": {
        "colab": {
          "base_uri": "https://localhost:8080/"
        },
        "id": "7JdG1RahZInb",
        "outputId": "a6fb5627-eec1-4b0b-f9f5-a40f61b6641f"
      },
      "execution_count": null,
      "outputs": [
        {
          "output_type": "stream",
          "name": "stdout",
          "text": [
            "Hello, Guest\n",
            "Hello, Hashir\n"
          ]
        }
      ]
    },
    {
      "cell_type": "markdown",
      "source": [
        " Assignemnet"
      ],
      "metadata": {
        "id": "nYB3dnAhrTmi"
      }
    },
    {
      "cell_type": "code",
      "source": [
        "import random\n",
        "def roll_dice():\n",
        "  return random.randint(1, 10)\n",
        "\n",
        "print(roll_dice())"
      ],
      "metadata": {
        "colab": {
          "base_uri": "https://localhost:8080/"
        },
        "id": "zimVa87_rP7b",
        "outputId": "1cc68df7-e9b9-4c1f-c7b1-7f31cd61ff2d"
      },
      "execution_count": 27,
      "outputs": [
        {
          "output_type": "stream",
          "name": "stdout",
          "text": [
            "9\n"
          ]
        }
      ]
    },
    {
      "cell_type": "code",
      "source": [
        "def call_iilam(prompt):\n",
        "  return \"Hello i am nisha how are you\"\n",
        "responsive = call_iilam(\"hi my name is nisha\")\n",
        "print(responsive)"
      ],
      "metadata": {
        "colab": {
          "base_uri": "https://localhost:8080/"
        },
        "id": "kOyMzQeSsvYw",
        "outputId": "224db9de-d697-40f4-cee3-48eb7f92a83a"
      },
      "execution_count": 28,
      "outputs": [
        {
          "output_type": "stream",
          "name": "stdout",
          "text": [
            "Hello i am nisha how are you\n"
          ]
        }
      ]
    },
    {
      "cell_type": "markdown",
      "source": [
        "Assignemnet"
      ],
      "metadata": {
        "id": "5m30YVqJahqt"
      }
    },
    {
      "cell_type": "code",
      "source": [
        "def calculate(a, b, operation):\n",
        "  if operation == \"add\":\n",
        "    return a+b\n",
        "  elif operation == \"subtract\":\n",
        "    return a-b\n",
        "  elif operation == \"divide\":\n",
        "    return a/b\n",
        "  elif operation == \"multiple\":\n",
        "    return a*b\n",
        "  else :\n",
        "      print(\"invalid operation\")\n",
        "\n",
        "print(calculate(2, 7, \"add\"))\n",
        "print(calculate(7, 2, \"subtract\"))\n",
        "print(calculate(7, 2, \"divide\"))\n",
        "print(calculate(2, 7, \"multiple\"))\n"
      ],
      "metadata": {
        "colab": {
          "base_uri": "https://localhost:8080/"
        },
        "id": "dvYCG-z8amcP",
        "outputId": "06fc2069-38fb-46cd-eeef-8ac06f53364c"
      },
      "execution_count": 24,
      "outputs": [
        {
          "output_type": "stream",
          "name": "stdout",
          "text": [
            "9\n",
            "5\n",
            "3.5\n",
            "14\n"
          ]
        }
      ]
    }
  ],
  "metadata": {
    "colab": {
      "provenance": [],
      "authorship_tag": "ABX9TyMLUb0esVTjs7NzTZX9G+M7",
      "include_colab_link": true
    },
    "kernelspec": {
      "display_name": "Python 3",
      "name": "python3"
    },
    "language_info": {
      "name": "python"
    }
  },
  "nbformat": 4,
  "nbformat_minor": 0
}